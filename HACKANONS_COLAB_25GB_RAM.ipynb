{
  "nbformat": 4,
  "nbformat_minor": 0,
  "metadata": {
    "colab": {
      "provenance": [],
      "machine_shape": "hm",
      "include_colab_link": true
    },
    "kernelspec": {
      "name": "python3",
      "display_name": "Python 3"
    },
    "accelerator": "GPU",
    "gpuClass": "standard"
  },
  "cells": [
    {
      "cell_type": "markdown",
      "metadata": {
        "id": "view-in-github",
        "colab_type": "text"
      },
      "source": [
        "<a href=\"https://colab.research.google.com/github/ashishsarkarmlops/Text-generation-LSTM/blob/main/HACKANONS_COLAB_25GB_RAM.ipynb\" target=\"_parent\"><img src=\"https://colab.research.google.com/assets/colab-badge.svg\" alt=\"Open In Colab\"/></a>"
      ]
    },
    {
      "cell_type": "markdown",
      "metadata": {
        "id": "4cbgwZWWfWpp"
      },
      "source": [
        "# New Section"
      ]
    },
    {
      "cell_type": "code",
      "metadata": {
        "id": "tAb77yZ9fzMG",
        "colab": {
          "base_uri": "https://localhost:8080/"
        },
        "outputId": "86bc5861-be83-4b41-ffcb-5055f92425f2"
      },
      "source": [
        "import numpy as np \n",
        "import pandas as pd \n",
        "%tensorflow_version 2.x\n",
        "import tensorflow \n",
        "import requests\n",
        "import string"
      ],
      "execution_count": 1,
      "outputs": [
        {
          "output_type": "stream",
          "name": "stdout",
          "text": [
            "Colab only includes TensorFlow 2.x; %tensorflow_version has no effect.\n"
          ]
        }
      ]
    },
    {
      "cell_type": "code",
      "metadata": {
        "id": "pafL7Li0jyXW"
      },
      "source": [
        "response=requests.get('https://ocw.mit.edu/ans7870/6/6.006/s08/lecturenotes/files/t8.shakespeare.txt')"
      ],
      "execution_count": 2,
      "outputs": []
    },
    {
      "cell_type": "code",
      "source": [
        "corpus=response.text"
      ],
      "metadata": {
        "id": "t200lEQ3R8Bd"
      },
      "execution_count": 3,
      "outputs": []
    },
    {
      "cell_type": "code",
      "source": [
        "data=corpus.split('\\n')"
      ],
      "metadata": {
        "id": "3cm1iL8FR-Sp"
      },
      "execution_count": 4,
      "outputs": []
    },
    {
      "cell_type": "code",
      "source": [
        "data=data[253:]"
      ],
      "metadata": {
        "id": "wZby22IhSBGE"
      },
      "execution_count": 5,
      "outputs": []
    },
    {
      "cell_type": "code",
      "source": [
        "len(data)"
      ],
      "metadata": {
        "id": "8l7wcwm6SCCT",
        "outputId": "adc7b653-1d17-4a1e-f62c-672e23cfa27e",
        "colab": {
          "base_uri": "https://localhost:8080/"
        }
      },
      "execution_count": 6,
      "outputs": [
        {
          "output_type": "execute_result",
          "data": {
            "text/plain": [
              "124204"
            ]
          },
          "metadata": {},
          "execution_count": 6
        }
      ]
    },
    {
      "cell_type": "code",
      "source": [
        "data=\" \".join(data)"
      ],
      "metadata": {
        "id": "tvZRPkZiSECW"
      },
      "execution_count": 7,
      "outputs": []
    },
    {
      "cell_type": "code",
      "source": [
        "data=data.lower()"
      ],
      "metadata": {
        "id": "htQ2xRJTSIMr"
      },
      "execution_count": 8,
      "outputs": []
    },
    {
      "cell_type": "markdown",
      "source": [
        "Clean the data"
      ],
      "metadata": {
        "id": "AIvRDzBBSJa3"
      }
    },
    {
      "cell_type": "code",
      "source": [
        "\n",
        "#cleaning functions \n",
        "def clean_text(doc):\n",
        "  tokens=doc.split()\n",
        "  table=str.maketrans('','', string.punctuation)\n",
        "  #taking not punctuations\n",
        "  tokens = [w.translate(table) for w in tokens]\n",
        "  #taking alphabets only\n",
        "  tokens=[word for word in tokens if word.isalpha()]\n",
        "  return tokens\n",
        "     "
      ],
      "metadata": {
        "id": "Td6nK-LySLHI"
      },
      "execution_count": 9,
      "outputs": []
    },
    {
      "cell_type": "code",
      "source": [
        "tokens=clean_text(data)\n",
        "#print(tokens[:50])"
      ],
      "metadata": {
        "id": "x74dDyRiSMnp"
      },
      "execution_count": 10,
      "outputs": []
    },
    {
      "cell_type": "code",
      "source": [
        "#overall words\n",
        "len(tokens)\n",
        "     "
      ],
      "metadata": {
        "id": "K8wPcXIFSSjX",
        "outputId": "07a74e90-d99e-4260-87cd-0936bab3b000",
        "colab": {
          "base_uri": "https://localhost:8080/"
        }
      },
      "execution_count": 11,
      "outputs": [
        {
          "output_type": "execute_result",
          "data": {
            "text/plain": [
              "898199"
            ]
          },
          "metadata": {},
          "execution_count": 11
        }
      ]
    },
    {
      "cell_type": "code",
      "source": [
        "#unique words \n",
        "len(set(tokens))\n",
        "     "
      ],
      "metadata": {
        "id": "-WLSvGyGSUwf",
        "outputId": "4151c414-3030-494c-fa84-5de868f08ba6",
        "colab": {
          "base_uri": "https://localhost:8080/"
        }
      },
      "execution_count": 12,
      "outputs": [
        {
          "output_type": "execute_result",
          "data": {
            "text/plain": [
              "27956"
            ]
          },
          "metadata": {},
          "execution_count": 12
        }
      ]
    },
    {
      "cell_type": "markdown",
      "source": [
        "The method we will use is well take 50 words to predict the 51st word"
      ],
      "metadata": {
        "id": "DXo8QmrVSZ2l"
      }
    },
    {
      "cell_type": "code",
      "source": [
        "#we will use 50 words to predict the 51 word +1 will be the target variable \n",
        "length=50+1"
      ],
      "metadata": {
        "id": "LSkMPl3ESYry"
      },
      "execution_count": 14,
      "outputs": []
    },
    {
      "cell_type": "code",
      "source": [
        "lines=[]\n",
        "for i in range (length,len(tokens)):\n",
        "  seq=tokens[i-length:i]\n",
        "  line=' '.join(seq)\n",
        "  lines.append(line)\n",
        "  if i> 200000:\n",
        "   break\n",
        "print(len(lines))"
      ],
      "metadata": {
        "id": "HSonNF5dSeMs",
        "outputId": "3aa6c7e2-5271-41f1-cfc5-719e7c62e3d5",
        "colab": {
          "base_uri": "https://localhost:8080/"
        }
      },
      "execution_count": 15,
      "outputs": [
        {
          "output_type": "stream",
          "name": "stdout",
          "text": [
            "199951\n"
          ]
        }
      ]
    },
    {
      "cell_type": "code",
      "source": [
        "#lines[0]"
      ],
      "metadata": {
        "id": "g5zfutelSgrb"
      },
      "execution_count": 16,
      "outputs": []
    },
    {
      "cell_type": "code",
      "source": [
        "import numpy as np\n",
        "from tensorflow.keras.preprocessing.text import Tokenizer \n",
        "from tensorflow.keras.utils import to_categorical\n",
        "from tensorflow.keras.models import Sequential\n",
        "from tensorflow.keras.layers import Dense,Dropout,LSTM, Embedding\n",
        "from tensorflow.keras.preprocessing.sequence import pad_sequences"
      ],
      "metadata": {
        "id": "GNOO-SVMSh5E"
      },
      "execution_count": 17,
      "outputs": []
    },
    {
      "cell_type": "code",
      "source": [
        "#tokenizer sentences \n",
        "tokenizer=Tokenizer()"
      ],
      "metadata": {
        "id": "sq-qsGM2Slyb"
      },
      "execution_count": 18,
      "outputs": []
    },
    {
      "cell_type": "code",
      "source": [
        "tokenizer.fit_on_texts(lines)\n",
        "sequences=tokenizer.texts_to_sequences(lines)"
      ],
      "metadata": {
        "id": "6EbX_vXOSn-D"
      },
      "execution_count": 19,
      "outputs": []
    },
    {
      "cell_type": "code",
      "source": [
        "sequences=np.array(sequences)"
      ],
      "metadata": {
        "id": "uN1ZOjmwSoDh"
      },
      "execution_count": 20,
      "outputs": []
    },
    {
      "cell_type": "code",
      "source": [
        "X=sequences[:,:-1]\n",
        "y=sequences[:,-1]"
      ],
      "metadata": {
        "id": "OHGwmgp-SsuM"
      },
      "execution_count": 21,
      "outputs": []
    },
    {
      "cell_type": "code",
      "source": [
        "vocab_size=len(tokenizer.word_index)+1 # this gives the index for each word   =>tokenizer.word_index"
      ],
      "metadata": {
        "id": "D2nPe9F3Sswz"
      },
      "execution_count": 22,
      "outputs": []
    },
    {
      "cell_type": "code",
      "source": [
        "y=to_categorical(y,num_classes=vocab_size)# converting to one hot encoded matrix "
      ],
      "metadata": {
        "id": "TWRz770tSszl"
      },
      "execution_count": 23,
      "outputs": []
    },
    {
      "cell_type": "code",
      "source": [],
      "metadata": {
        "id": "XITueflaS1Q9"
      },
      "execution_count": null,
      "outputs": []
    },
    {
      "cell_type": "code",
      "source": [],
      "metadata": {
        "id": "RdgKc6adS1rY"
      },
      "execution_count": null,
      "outputs": []
    },
    {
      "cell_type": "code",
      "source": [],
      "metadata": {
        "id": "AAqkl28yS1t8"
      },
      "execution_count": null,
      "outputs": []
    },
    {
      "cell_type": "code",
      "source": [],
      "metadata": {
        "id": "4NREtTqES1wz"
      },
      "execution_count": null,
      "outputs": []
    },
    {
      "cell_type": "code",
      "source": [],
      "metadata": {
        "id": "0XbytIVUS1zb"
      },
      "execution_count": null,
      "outputs": []
    },
    {
      "cell_type": "code",
      "source": [],
      "metadata": {
        "id": "LhvscDgrSs2M"
      },
      "execution_count": null,
      "outputs": []
    },
    {
      "cell_type": "code",
      "source": [],
      "metadata": {
        "id": "Z9wW4-WrSs5B"
      },
      "execution_count": null,
      "outputs": []
    }
  ]
}