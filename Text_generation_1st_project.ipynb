{
  "nbformat": 4,
  "nbformat_minor": 0,
  "metadata": {
    "colab": {
      "provenance": [],
      "authorship_tag": "ABX9TyMQA3KAeXCH3MPc3jTkAACi",
      "include_colab_link": true
    },
    "kernelspec": {
      "name": "python3",
      "display_name": "Python 3"
    },
    "language_info": {
      "name": "python"
    },
    "accelerator": "GPU",
    "gpuClass": "standard"
  },
  "cells": [
    {
      "cell_type": "markdown",
      "metadata": {
        "id": "view-in-github",
        "colab_type": "text"
      },
      "source": [
        "<a href=\"https://colab.research.google.com/github/ashishsarkarmlops/Text-generation-LSTM/blob/main/Text_generation_1st_project.ipynb\" target=\"_parent\"><img src=\"https://colab.research.google.com/assets/colab-badge.svg\" alt=\"Open In Colab\"/></a>"
      ]
    },
    {
      "cell_type": "code",
      "execution_count": 48,
      "metadata": {
        "colab": {
          "base_uri": "https://localhost:8080/"
        },
        "id": "E8Y_egUcA3SH",
        "outputId": "724d37ee-d94d-42ee-a734-d8461ab9733f"
      },
      "outputs": [
        {
          "output_type": "stream",
          "name": "stdout",
          "text": [
            "Colab only includes TensorFlow 2.x; %tensorflow_version has no effect.\n"
          ]
        }
      ],
      "source": [
        "import numpy as np \n",
        "import pandas as pd \n",
        "%tensorflow_version 2.x\n",
        "import tensorflow \n",
        "import requests\n",
        "import string"
      ]
    },
    {
      "cell_type": "code",
      "source": [
        "response=requests.get('https://ocw.mit.edu/ans7870/6/6.006/s08/lecturenotes/files/t8.shakespeare.txt')"
      ],
      "metadata": {
        "id": "yM23FJABBJ_c"
      },
      "execution_count": 3,
      "outputs": []
    },
    {
      "cell_type": "code",
      "source": [
        "corpus=response.text"
      ],
      "metadata": {
        "id": "n87kwyeYBgPA"
      },
      "execution_count": 5,
      "outputs": []
    },
    {
      "cell_type": "code",
      "source": [
        "data=corpus.split('\\n')"
      ],
      "metadata": {
        "id": "mqGYScmKBhjn"
      },
      "execution_count": 15,
      "outputs": []
    },
    {
      "cell_type": "code",
      "source": [
        "data=data[253:]"
      ],
      "metadata": {
        "id": "IWv4FFtcBr92"
      },
      "execution_count": 16,
      "outputs": []
    },
    {
      "cell_type": "code",
      "source": [
        "len(data)"
      ],
      "metadata": {
        "colab": {
          "base_uri": "https://localhost:8080/"
        },
        "id": "ye6JXTwkB3xG",
        "outputId": "ba283af0-72dc-4eba-f869-acab410fe690"
      },
      "execution_count": 17,
      "outputs": [
        {
          "output_type": "execute_result",
          "data": {
            "text/plain": [
              "124204"
            ]
          },
          "metadata": {},
          "execution_count": 17
        }
      ]
    },
    {
      "cell_type": "code",
      "source": [
        "data=\" \".join(data)"
      ],
      "metadata": {
        "id": "w66aO5QWCI4P"
      },
      "execution_count": 18,
      "outputs": []
    },
    {
      "cell_type": "code",
      "source": [
        "data=data.lower()"
      ],
      "metadata": {
        "id": "CujtK2XzCd5w"
      },
      "execution_count": 33,
      "outputs": []
    },
    {
      "cell_type": "markdown",
      "source": [
        "Clean the data "
      ],
      "metadata": {
        "id": "lCZO512lCp1a"
      }
    },
    {
      "cell_type": "code",
      "source": [
        "#cleaning functions \n",
        "def clean_text(doc):\n",
        "  tokens=doc.split()\n",
        "  table=str.maketrans('','', string.punctuation)\n",
        "  #taking not punctuations\n",
        "  tokens = [w.translate(table) for w in tokens]\n",
        "  #taking alphabets only\n",
        "  tokens=[word for word in tokens if word.isalpha()]\n",
        "  return tokens"
      ],
      "metadata": {
        "id": "utsvXk-LCkHn"
      },
      "execution_count": 34,
      "outputs": []
    },
    {
      "cell_type": "code",
      "source": [
        "tokens=clean_text(data)"
      ],
      "metadata": {
        "id": "mSsiTkHPF273"
      },
      "execution_count": 35,
      "outputs": []
    },
    {
      "cell_type": "code",
      "source": [
        "print(tokens[:50])"
      ],
      "metadata": {
        "colab": {
          "base_uri": "https://localhost:8080/"
        },
        "id": "NKljUBWmGD-f",
        "outputId": "cd16cb49-f570-4eae-b512-d43a8b433273"
      },
      "execution_count": 38,
      "outputs": [
        {
          "output_type": "stream",
          "name": "stdout",
          "text": [
            "['from', 'fairest', 'creatures', 'we', 'desire', 'increase', 'that', 'thereby', 'beautys', 'rose', 'might', 'never', 'die', 'but', 'as', 'the', 'riper', 'should', 'by', 'time', 'decease', 'his', 'tender', 'heir', 'might', 'bear', 'his', 'memory', 'but', 'thou', 'contracted', 'to', 'thine', 'own', 'bright', 'eyes', 'feedst', 'thy', 'lights', 'flame', 'with', 'selfsubstantial', 'fuel', 'making', 'a', 'famine', 'where', 'abundance', 'lies', 'thy']\n"
          ]
        }
      ]
    },
    {
      "cell_type": "code",
      "source": [
        "#overall words\n",
        "len(tokens)"
      ],
      "metadata": {
        "colab": {
          "base_uri": "https://localhost:8080/"
        },
        "id": "J3SQsrPtGTQI",
        "outputId": "0b389439-1615-49c3-86f9-3801993e6973"
      },
      "execution_count": 39,
      "outputs": [
        {
          "output_type": "execute_result",
          "data": {
            "text/plain": [
              "898199"
            ]
          },
          "metadata": {},
          "execution_count": 39
        }
      ]
    },
    {
      "cell_type": "code",
      "source": [
        "#unique words \n",
        "len(set(tokens))"
      ],
      "metadata": {
        "colab": {
          "base_uri": "https://localhost:8080/"
        },
        "id": "jH9aYWH5G2Qw",
        "outputId": "832fed66-ebf8-49b0-b74b-c993cb45ba45"
      },
      "execution_count": 40,
      "outputs": [
        {
          "output_type": "execute_result",
          "data": {
            "text/plain": [
              "27956"
            ]
          },
          "metadata": {},
          "execution_count": 40
        }
      ]
    },
    {
      "cell_type": "markdown",
      "source": [
        "The method we will use is well take 50 words to predict the 51st word "
      ],
      "metadata": {
        "id": "lFszcwoTHNDz"
      }
    },
    {
      "cell_type": "code",
      "source": [
        "#we will use 50 words to predict the 51 word +1 will be the target variable \n",
        "length=50+1"
      ],
      "metadata": {
        "id": "fYnsRICUG4zQ"
      },
      "execution_count": 42,
      "outputs": []
    },
    {
      "cell_type": "code",
      "source": [
        "lines=[]\n",
        "for i in range (length,len(tokens)):\n",
        "  seq=tokens[i-length:i]\n",
        "  line=' '.join(seq)\n",
        "  lines.append(line)\n",
        "  if i> 200000:\n",
        "   break\n",
        "print(len(lines))"
      ],
      "metadata": {
        "colab": {
          "base_uri": "https://localhost:8080/"
        },
        "id": "MUQlLofZHMBP",
        "outputId": "2f48f3dc-d46e-4a0b-9f61-517ccb3b5c6d"
      },
      "execution_count": 43,
      "outputs": [
        {
          "output_type": "stream",
          "name": "stdout",
          "text": [
            "199951\n"
          ]
        }
      ]
    },
    {
      "cell_type": "code",
      "source": [
        "lines[0]"
      ],
      "metadata": {
        "colab": {
          "base_uri": "https://localhost:8080/",
          "height": 53
        },
        "id": "Yxcd91RfIMz5",
        "outputId": "315cfd3c-e654-414e-d533-867982912e7e"
      },
      "execution_count": 44,
      "outputs": [
        {
          "output_type": "execute_result",
          "data": {
            "text/plain": [
              "'from fairest creatures we desire increase that thereby beautys rose might never die but as the riper should by time decease his tender heir might bear his memory but thou contracted to thine own bright eyes feedst thy lights flame with selfsubstantial fuel making a famine where abundance lies thy self'"
            ],
            "application/vnd.google.colaboratory.intrinsic+json": {
              "type": "string"
            }
          },
          "metadata": {},
          "execution_count": 44
        }
      ]
    },
    {
      "cell_type": "code",
      "source": [
        "lines[1]"
      ],
      "metadata": {
        "colab": {
          "base_uri": "https://localhost:8080/",
          "height": 53
        },
        "id": "UhWFa93DIPAf",
        "outputId": "ab10089d-fa34-4b2b-9aae-3205621e232a"
      },
      "execution_count": 45,
      "outputs": [
        {
          "output_type": "execute_result",
          "data": {
            "text/plain": [
              "'fairest creatures we desire increase that thereby beautys rose might never die but as the riper should by time decease his tender heir might bear his memory but thou contracted to thine own bright eyes feedst thy lights flame with selfsubstantial fuel making a famine where abundance lies thy self thy'"
            ],
            "application/vnd.google.colaboratory.intrinsic+json": {
              "type": "string"
            }
          },
          "metadata": {},
          "execution_count": 45
        }
      ]
    },
    {
      "cell_type": "code",
      "source": [
        "#lines"
      ],
      "metadata": {
        "id": "0RnFo0GCIeLQ"
      },
      "execution_count": 47,
      "outputs": []
    },
    {
      "cell_type": "code",
      "source": [
        "import numpy as np\n",
        "from tensorflow.keras.preprocessing.text import Tokenizer \n",
        "from tensorflow.keras.utils import to_categorical\n",
        "from tensorflow.keras.models import Sequential\n",
        "from tensorflow.keras.layers import Dense,Dropout,LSTM, Embedding\n",
        "from tensorflow.keras.preprocessing.sequence import pad_sequences"
      ],
      "metadata": {
        "id": "5cWQ0xUoIgHp"
      },
      "execution_count": 49,
      "outputs": []
    },
    {
      "cell_type": "code",
      "source": [
        "#tokenizer sentences \n",
        "tokenizer=Tokenizer()\n"
      ],
      "metadata": {
        "id": "RVvsA7vmIqPq"
      },
      "execution_count": 50,
      "outputs": []
    },
    {
      "cell_type": "code",
      "source": [
        "tokenizer.fit_on_texts(lines)\n",
        "sequences=tokenizer.texts_to_sequences(lines)"
      ],
      "metadata": {
        "id": "nobI6IpuKtRN"
      },
      "execution_count": 53,
      "outputs": []
    },
    {
      "cell_type": "code",
      "source": [
        "sequences=np.array(sequences)"
      ],
      "metadata": {
        "id": "4ZPhvWpKKt23"
      },
      "execution_count": 54,
      "outputs": []
    },
    {
      "cell_type": "code",
      "source": [
        "sequences"
      ],
      "metadata": {
        "id": "ArdlC84CLB5x",
        "outputId": "2b97af71-9dad-43ba-ae88-516c218aa5ad",
        "colab": {
          "base_uri": "https://localhost:8080/"
        }
      },
      "execution_count": 55,
      "outputs": [
        {
          "output_type": "execute_result",
          "data": {
            "text/plain": [
              "array([[  47, 1408, 1264, ...,  466,   31,  307],\n",
              "       [1408, 1264,   37, ...,   31,  307,   31],\n",
              "       [1264,   37,  451, ...,  307,   31, 1582],\n",
              "       ...,\n",
              "       [  33,   80, 5197, ...,  215,   44,   30],\n",
              "       [  80, 5197,  103, ...,   44,   30, 1332],\n",
              "       [5197,  103, 1846, ...,   30, 1332,    2]])"
            ]
          },
          "metadata": {},
          "execution_count": 55
        }
      ]
    },
    {
      "cell_type": "code",
      "source": [],
      "metadata": {
        "id": "gYNKWL6JLEB4"
      },
      "execution_count": null,
      "outputs": []
    }
  ]
}